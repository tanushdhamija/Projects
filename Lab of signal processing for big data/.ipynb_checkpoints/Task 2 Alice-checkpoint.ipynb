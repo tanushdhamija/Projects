{
 "cells": [
  {
   "cell_type": "markdown",
   "metadata": {},
   "source": [
    "# Task 2"
   ]
  },
  {
   "cell_type": "code",
   "execution_count": 2,
   "metadata": {},
   "outputs": [],
   "source": [
    "import numpy as np\n",
    "import math\n",
    "import matplotlib.pyplot as plt\n",
    "from scipy import random\n",
    "from itertools import islice\n",
    "from scipy import linalg\n",
    "import time"
   ]
  },
  {
   "cell_type": "markdown",
   "metadata": {},
   "source": [
    "#### Given a covariance matrix $\\mathrm{\\Sigma}\\in\\mathbb{R}^{nxn}$ and a mean vector $\\mu\\in\\mathbb{R}^n$, generate a dataset composed by 𝑁 instances of gaussian random vectors."
   ]
  },
  {
   "cell_type": "markdown",
   "metadata": {},
   "source": [
    "Given a real gaussian random vector, with $x\\in\\mathbb{R}^n$, the pdf is:\n",
    "$$f_x(\\xi)=\\frac{1}{\\sqrt{(2\\pi)^ndet\\ k_x}}e^{-\\frac{1}{2}(\\xi-m_x)^t\\ k_x^{-1}(\\xi-m_x)}$$\n",
    "With:\n",
    "- Average: $m_x=E[x]$\n",
    "- Covariance: $k_x=E[(x-m_x)({x-m_x)}^t]$"
   ]
  },
  {
   "cell_type": "markdown",
   "metadata": {},
   "source": [
    "##### Random Normal Vector Generation"
   ]
  },
  {
   "cell_type": "markdown",
   "metadata": {},
   "source": [
    "The Random Normal Vector Generation is the method for generating a gaussian vector x from any mean vector $\\mu\\in\\mathbb{R}^n$ and any covariance matrix $\\mathrm{\\Sigma}\\in\\mathbb{R}^{nxn}$, i.e., $, x \\sim \\mathcal{N}(\\mu,\\mathrm{\\Sigma})$. "
   ]
  },
  {
   "cell_type": "code",
   "execution_count": 3,
   "metadata": {},
   "outputs": [
    {
     "name": "stdout",
     "output_type": "stream",
     "text": [
      "No. of dimensions: 100\n"
     ]
    }
   ],
   "source": [
    "n = int(input(\"No. of dimensions: \"))"
   ]
  },
  {
   "cell_type": "code",
   "execution_count": null,
   "metadata": {},
   "outputs": [],
   "source": []
  },
  {
   "cell_type": "code",
   "execution_count": 12,
   "metadata": {},
   "outputs": [],
   "source": [
    "a = np.random.rand(n,n)\n",
    "K = a.T @ a\n",
    "u = np.zeros(n)"
   ]
  },
  {
   "cell_type": "code",
   "execution_count": 13,
   "metadata": {},
   "outputs": [],
   "source": [
    "l,v = np.linalg.eig(K)"
   ]
  },
  {
   "cell_type": "code",
   "execution_count": 14,
   "metadata": {},
   "outputs": [],
   "source": [
    "d = np.zeros((n,n), float)\n",
    "np.fill_diagonal(d,l)"
   ]
  },
  {
   "cell_type": "code",
   "execution_count": 15,
   "metadata": {},
   "outputs": [],
   "source": [
    "A = v @ np.sqrt(d) @ v.T"
   ]
  },
  {
   "cell_type": "code",
   "execution_count": 16,
   "metadata": {},
   "outputs": [
    {
     "data": {
      "text/plain": [
       "True"
      ]
     },
     "execution_count": 16,
     "metadata": {},
     "output_type": "execute_result"
    }
   ],
   "source": [
    "np.allclose(K, (A @ A.T))"
   ]
  },
  {
   "cell_type": "code",
   "execution_count": 17,
   "metadata": {},
   "outputs": [],
   "source": [
    "Y = np.random.multivariate_normal(u, np.identity(n), n)"
   ]
  },
  {
   "cell_type": "code",
   "execution_count": 18,
   "metadata": {},
   "outputs": [
    {
     "data": {
      "image/png": "[encoded data removed]",
      "text/plain": [
       "<Figure size 1152x576 with 1 Axes>"
      ]
     },
     "metadata": {
      "needs_background": "light"
     },
     "output_type": "display_data"
    }
   ],
   "source": [
    "plt.figure(figsize=(16,8))\n",
    "plt.hist(Y[50], 100, density=True)\n",
    "None"
   ]
  },
  {
   "cell_type": "markdown",
   "metadata": {},
   "source": [
    "The instance X is generated as follows."
   ]
  },
  {
   "cell_type": "code",
   "execution_count": 1,
   "metadata": {},
   "outputs": [
    {
     "ename": "NameError",
     "evalue": "name 'A' is not defined",
     "output_type": "error",
     "traceback": [
      "\u001b[1;31m---------------------------------------------------------------------------\u001b[0m",
      "\u001b[1;31mNameError\u001b[0m                                 Traceback (most recent call last)",
      "\u001b[1;32m<ipython-input-1-a80f38cd5dff>\u001b[0m in \u001b[0;36m<module>\u001b[1;34m\u001b[0m\n\u001b[1;32m----> 1\u001b[1;33m \u001b[0mX\u001b[0m \u001b[1;33m=\u001b[0m \u001b[0mA\u001b[0m \u001b[1;33m@\u001b[0m \u001b[0mY\u001b[0m\u001b[1;33m\u001b[0m\u001b[1;33m\u001b[0m\u001b[0m\n\u001b[0m",
      "\u001b[1;31mNameError\u001b[0m: name 'A' is not defined"
     ]
    }
   ],
   "source": [
    "X = A @ Y"
   ]
  },
  {
   "cell_type": "code",
   "execution_count": 20,
   "metadata": {},
   "outputs": [
    {
     "data": {
      "image/png": "[encoded data removed]",
      "text/plain": [
       "<Figure size 1152x576 with 1 Axes>"
      ]
     },
     "metadata": {
      "needs_background": "light"
     },
     "output_type": "display_data"
    }
   ],
   "source": [
    "plt.figure(figsize=(16,8))\n",
    "plt.hist(X[50], 100, density=True)\n",
    "None"
   ]
  },
  {
   "cell_type": "markdown",
   "metadata": {},
   "source": [
    "#### 2. Estimate covariance matrix of the generated dataset and perform eigendecomposition."
   ]
  },
  {
   "cell_type": "markdown",
   "metadata": {},
   "source": [
    "The covariance is an expectation:\n",
    "$$k_x=E[(x-m_x)(x-m_x)^t]$$\n",
    "$x$ is a vector, $m_x$ is a vector, so $x-m_x$ is a vector. So, we have a $vector\\bullet{vector}^T$. it means that it’s a matrix. Column by column transposed I get all the possible cross products of the components and of each of them I make the expectation.\n",
    "So, the covariance matrix is a matrix containing all the expectation of products of \n",
    "$$(one\\ component\\ of\\ the\\ vector\\ -\\ its\\ average)\\ (another\\ component\\ of\\ the\\ vector-\\ its\\ average)$$"
   ]
  },
  {
   "cell_type": "code",
   "execution_count": 21,
   "metadata": {},
   "outputs": [],
   "source": [
    "Kx = np.cov(X)"
   ]
  },
  {
   "cell_type": "code",
   "execution_count": 22,
   "metadata": {},
   "outputs": [],
   "source": [
    "lx,vx = np.linalg.eig(Kx)"
   ]
  },
  {
   "cell_type": "code",
   "execution_count": 23,
   "metadata": {},
   "outputs": [],
   "source": [
    "dx = np.zeros((n,n), float)\n",
    "np.fill_diagonal(dx,lx)"
   ]
  },
  {
   "cell_type": "code",
   "execution_count": 29,
   "metadata": {},
   "outputs": [],
   "source": [
    "#linalg.norm(K - Kx, ord='fro')"
   ]
  },
  {
   "cell_type": "code",
   "execution_count": 30,
   "metadata": {},
   "outputs": [
    {
     "data": {
      "text/plain": [
       "263.8996747450761"
      ]
     },
     "execution_count": 30,
     "metadata": {},
     "output_type": "execute_result"
    }
   ],
   "source": [
    "dif = abs(K - Kx)\n",
    "err = np.linalg.norm(dif, ord='fro')\n",
    "err"
   ]
  },
  {
   "cell_type": "markdown",
   "metadata": {},
   "source": [
    "Mean Squared Error between the covariance matrix and the estimated one:"
   ]
  },
  {
   "cell_type": "code",
   "execution_count": 31,
   "metadata": {},
   "outputs": [
    {
     "data": {
      "text/plain": [
       "6.964303833055694"
      ]
     },
     "execution_count": 31,
     "metadata": {},
     "output_type": "execute_result"
    }
   ],
   "source": [
    "mse = (np.square(K - Kx)).mean(axis=None)\n",
    "mse"
   ]
  },
  {
   "cell_type": "markdown",
   "metadata": {},
   "source": [
    "Mean Squared Error between the eigenvalues and the estimated ones:"
   ]
  },
  {
   "cell_type": "code",
   "execution_count": 32,
   "metadata": {},
   "outputs": [
    {
     "data": {
      "text/plain": [
       "1.7573275139826565"
      ]
     },
     "execution_count": 32,
     "metadata": {},
     "output_type": "execute_result"
    }
   ],
   "source": [
    "mse1 = (np.square(d - dx)).mean(axis=None)\n",
    "mse1"
   ]
  },
  {
   "cell_type": "markdown",
   "metadata": {},
   "source": [
    "#### 3. Extract the highest eigenvalue and its correspondant eigenvector by means of the Power Method. Discuss accuracy and convergenge of the algorithm."
   ]
  },
  {
   "cell_type": "markdown",
   "metadata": {},
   "source": [
    "The Power Method is a property about eigenvalues and eigenvectors. The power method for extracting the eigenvalues of symmetric and positive semidefinite matrices is so powerful that in reality it can be used not only to make step easier, but it can be also backpropagated to the first step, to simplify also the structure of the x. it’s an extremely powerful method.\n",
    "The idea is, given y the nxn matrix from which we want to extract the eigenvectors and the eigenvalues, we can decompose it in:\n",
    "$$y=X^tX={UDU}^t=\\sum_{j=0}^{n-1}{\\lambda_ju_ju_j^t}$$\n",
    "We use the spectral decomposition, not the SVD. "
   ]
  },
  {
   "cell_type": "code",
   "execution_count": 33,
   "metadata": {},
   "outputs": [],
   "source": [
    "def power_method(K, iterations):\n",
    "    \n",
    "    #To decrease the probablity that our initial random vector \n",
    "    #is orthogonal to the largest eigenvector :\n",
    "    b_k = np.random.rand(K.shape[0]) \n",
    "    \n",
    "    #Any random vector\n",
    "    #b_k = np.random.rand(n,1)[:,0]\n",
    "    \n",
    "    for _ in range(iterations):\n",
    "        b_k1 = K @ b_k\n",
    "        b_k1_norm = np.linalg.norm(b_k1)\n",
    "        b_k = b_k1 / b_k1_norm\n",
    "    \n",
    "    a_k = (b_k.T @ K @ b_k) / (b_k.T @ b_k)\n",
    "        \n",
    "    return a_k, b_k"
   ]
  },
  {
   "cell_type": "markdown",
   "metadata": {},
   "source": [
    "#### Another way to implement Power Method is the following. This gives the convergence."
   ]
  },
  {
   "cell_type": "code",
   "execution_count": 34,
   "metadata": {},
   "outputs": [],
   "source": [
    "def power_method2(K, true, eps):\n",
    "    b_k = np.random.rand(n,1)[:,0]\n",
    "    converge = False\n",
    "    c = 1\n",
    "    \n",
    "    while not converge:\n",
    "        b_k1 = K @ b_k\n",
    "        b_k1_norm = np.linalg.norm(b_k1)\n",
    "        b_k = b_k1 / b_k1_norm\n",
    "        a_k = (b_k.T @ K @ b_k) / (b_k.T @ b_k)\n",
    "        converge = abs(true - a_k) <= eps\n",
    "        c += 1\n",
    "    \n",
    "    return print(f'Converged after {c} iterations')  "
   ]
  },
  {
   "cell_type": "code",
   "execution_count": 35,
   "metadata": {},
   "outputs": [
    {
     "name": "stdout",
     "output_type": "stream",
     "text": [
      "True highest eigenvalue:  2540.31906\n",
      "Estimated highest eigenvalue:  2540.31906\n"
     ]
    }
   ],
   "source": [
    "eigval, eigvec = power_method(K, 10)\n",
    "print(f'True highest eigenvalue: {l[0]: .5f}')\n",
    "print(f'Estimated highest eigenvalue: {eigval: .5f}')\n",
    "#print(f'Corresponding eigenvector: {eigvec}')"
   ]
  },
  {
   "cell_type": "code",
   "execution_count": 36,
   "metadata": {},
   "outputs": [
    {
     "name": "stdout",
     "output_type": "stream",
     "text": [
      "Eigenvalue error: 4.547473508864641e-13, Eigenvector error: 2.0\n"
     ]
    }
   ],
   "source": [
    "true_eigval, true_eigvec = l[0], v[:,0]\n",
    "err_eigval = abs(eigval - true_eigval)\n",
    "err_eigvec = np.linalg.norm(eigvec - true_eigvec)\n",
    "\n",
    "print(f'Eigenvalue error: {err_eigval}, Eigenvector error: {err_eigvec}')"
   ]
  },
  {
   "cell_type": "code",
   "execution_count": 37,
   "metadata": {},
   "outputs": [
    {
     "name": "stdout",
     "output_type": "stream",
     "text": [
      "Converged after 5 iterations\n"
     ]
    }
   ],
   "source": [
    "power_method2(K, l[0], 0.00)"
   ]
  },
  {
   "cell_type": "code",
   "execution_count": null,
   "metadata": {},
   "outputs": [],
   "source": []
  }
 ],
 "metadata": {
  "kernelspec": {
   "display_name": "Python 3",
   "language": "python",
   "name": "python3"
  },
  "language_info": {
   "codemirror_mode": {
    "name": "ipython",
    "version": 3
   },
   "file_extension": ".py",
   "mimetype": "text/x-python",
   "name": "python",
   "nbconvert_exporter": "python",
   "pygments_lexer": "ipython3",
   "version": "3.8.3"
  }
 },
 "nbformat": 4,
 "nbformat_minor": 2
}
