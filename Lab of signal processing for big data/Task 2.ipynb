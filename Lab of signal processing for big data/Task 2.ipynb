{
 "cells": [
  {
   "cell_type": "markdown",
   "metadata": {},
   "source": [
    "# Generating a dataset of instances of Gaussian Random Vectors $X$ from a given Covariance Matrix $K$ and Mean Vector $𝝁$"
   ]
  },
  {
   "cell_type": "markdown",
   "metadata": {},
   "source": [
    "## Introduction\n",
    "\n",
    "The aim of this task is to generate a dataset composed by instances of gaussian random vectors $X$, given a covariance matrix $K\\in\\mathbb{R}^{nxn}$ and a mean vector $\\mu\\in\\mathbb{R}^n$.\n",
    "\n",
    "We then estimate the covariance matrix of this generated dataset and compare it with the original covariance matrix $K$ from which the dataset is constructed. "
   ]
  },
  {
   "cell_type": "markdown",
   "metadata": {},
   "source": [
    "We use the method of ***Random Normal Vector Generation*** to generate the dataset composed by instances of *$X ∼ N(𝝁, K)$* , where $N$ is the gaussian distribution with a mean $\\mu$ and covariance matrix $K$.\n",
    "\n",
    "The procedure is described below :\n",
    "\n",
    "- We start with a normal vector :  $Y ∼ Ν(0_n, I_n)$ $\\space$ (it has $\\mu$=0 and $K$=identity)  \n",
    "\n",
    "- We need to find a linear transformation *A* such that : $ X = AY + 𝝁 $\n",
    "\n",
    "- *A* can be found from the covariance matrix *K* : $ A = V ∙ √D  ∙V^T $ ; where V , D contain the eigenvectors and eigenvalues of *K* respectively. These are found by performing the spectral decomposition of *K*."
   ]
  },
  {
   "cell_type": "code",
   "execution_count": 1,
   "metadata": {},
   "outputs": [],
   "source": [
    "import numpy as np\n",
    "import matplotlib.pyplot as plt"
   ]
  },
  {
   "cell_type": "code",
   "execution_count": 3,
   "metadata": {},
   "outputs": [
    {
     "name": "stdin",
     "output_type": "stream",
     "text": [
      "Enter the number of dimensions:  500\n"
     ]
    }
   ],
   "source": [
    "n = int(input(\"Enter the number of dimensions: \"))\n",
    "a = np.random.rand(n,n)\n",
    "\n",
    "#covariance matrix K (symmetry asserted)\n",
    "K = a.T @ a\n",
    "\n",
    "#ZERO mean\n",
    "u = np.full((n,), 0)"
   ]
  },
  {
   "cell_type": "code",
   "execution_count": 4,
   "metadata": {},
   "outputs": [],
   "source": [
    "#spectral decomposition of K\n",
    "l,v = np.linalg.eig(K)\n",
    "\n",
    "d = np.zeros((n,n), float)\n",
    "np.fill_diagonal(d,l)"
   ]
  },
  {
   "cell_type": "code",
   "execution_count": 5,
   "metadata": {},
   "outputs": [],
   "source": [
    "#the required linear transformation A\n",
    "A = v @ np.sqrt(d) @ v.T"
   ]
  },
  {
   "cell_type": "code",
   "execution_count": 6,
   "metadata": {},
   "outputs": [
    {
     "data": {
      "text/plain": [
       "True"
      ]
     },
     "execution_count": 6,
     "metadata": {},
     "output_type": "execute_result"
    }
   ],
   "source": [
    "#checking if the condition K = (A . A^T) holds True \n",
    "np.allclose(K, (A @ A.T))"
   ]
  },
  {
   "cell_type": "code",
   "execution_count": 7,
   "metadata": {},
   "outputs": [
    {
     "name": "stdin",
     "output_type": "stream",
     "text": [
      "Enter the number of samples:  2000\n",
      "Which dimension to display? (0 to 499):  100\n"
     ]
    },
    {
     "data": {
      "image/png": "[encoded data removed]",
      "text/plain": [
       "<Figure size 1152x576 with 1 Axes>"
      ]
     },
     "metadata": {
      "needs_background": "light"
     },
     "output_type": "display_data"
    }
   ],
   "source": [
    "#Random Normal Vector\n",
    "\n",
    "samples = int(input(\"Enter the number of samples: \"))\n",
    "col = int(input(f'Which dimension to display? (0 to {n-1}): ')) \n",
    "Y = np.random.multivariate_normal(np.zeros(n), np.identity(n), samples)\n",
    "plt.figure(figsize=(16,8))\n",
    "plt.title('Normal Distribution Y ∼ Ν(0, I)')\n",
    "plt.hist(Y[:,col], 100, density=True)\n",
    "None"
   ]
  },
  {
   "cell_type": "code",
   "execution_count": 8,
   "metadata": {},
   "outputs": [
    {
     "data": {
      "image/png": "[encoded data removed]",
      "text/plain": [
       "<Figure size 1152x576 with 1 Axes>"
      ]
     },
     "metadata": {
      "needs_background": "light"
     },
     "output_type": "display_data"
    }
   ],
   "source": [
    "#Finally we generate the required Random Gaussian Vector X with mean 𝝁 and covariance matrix K \n",
    "\n",
    "X = (A @ Y.T).T + u \n",
    "plt.figure(figsize=(16,8))\n",
    "plt.title('Generated Gaussian Distribution X ∼ Ν(u, K)')\n",
    "plt.hist(X[:,col], 100, density=True)\n",
    "None"
   ]
  },
  {
   "cell_type": "markdown",
   "metadata": {},
   "source": [
    "# Assessment : Estimating the Covariance Matrix and Mean of the generated dataset"
   ]
  },
  {
   "cell_type": "markdown",
   "metadata": {},
   "source": [
    "We estimate the covariance matrix and mean of the dataset that we just generated above and compare it with the actual covariance matrix *K* and mean $\\mu$ from which the dataset was generated.\n",
    "\n",
    "We then assess the error between the two and also the error between the actual and estimated eigenvalues of the covariance matrix. [[2]](https://www.netlib.org/lapack/lug/node75.html)"
   ]
  },
  {
   "cell_type": "code",
   "execution_count": 9,
   "metadata": {},
   "outputs": [],
   "source": [
    "#estimated K\n",
    "Kx = np.cov(X, rowvar=False)\n",
    "\n",
    "#estimated u\n",
    "ux = np.mean(X)\n",
    "\n",
    "#spectral decomposition of Kx\n",
    "lx,vx = np.linalg.eig(Kx)\n",
    "dx = np.zeros((n,n), float)\n",
    "np.fill_diagonal(dx,lx)"
   ]
  },
  {
   "cell_type": "code",
   "execution_count": 10,
   "metadata": {},
   "outputs": [
    {
     "name": "stdout",
     "output_type": "stream",
     "text": [
      "The relative error in the estimation of covariance matrix K : 2.2%\n",
      "\n",
      "Mean Squared Error in estimating the mean u :  0.02\n",
      "\n",
      "The relative error between the actual and estimated eigenvalues of the covariance matrix K : 0.9%\n"
     ]
    }
   ],
   "source": [
    "#Error in the estimation of covariance matrix\n",
    "K_err = (np.linalg.norm(K - Kx, ord='fro') / np.linalg.norm(K, ord='fro')) * 100\n",
    "print(f'The relative error in the estimation of covariance matrix K : {K_err:.1f}%')\n",
    "\n",
    "#Error in the estimation of mean\n",
    "u_err = np.mean((u - ux)**2)\n",
    "print(f'\\nMean Squared Error in estimating the mean u : {u_err: .2f}')\n",
    "\n",
    "#Error between the actual and estimated eigenvalues of the covariance matrix\n",
    "d_err = (np.linalg.norm(d - dx, ord='fro') / np.linalg.norm(d, ord='fro')) * 100\n",
    "print(f'\\nThe relative error between the actual and estimated eigenvalues of the covariance matrix K : {d_err:.1f}%')"
   ]
  },
  {
   "cell_type": "markdown",
   "metadata": {},
   "source": [
    "# Power Method : Estimating the largest eigenvalue and eigenvector"
   ]
  },
  {
   "cell_type": "markdown",
   "metadata": {},
   "source": [
    "The Power Method is an iterative algorithm that estimates the largest eigenvalue and the corresponding eigenvector of a diagonalizable matrix *K*. \n",
    "\n",
    "Two very important assumptions to be made for the Power method to work as expected [[1]](https://en.wikipedia.org/wiki/Power_iteration) : \n",
    "\n",
    "- The diagonalizable matrix *K* has an eigenvalue that is strictly greater in magnitude than its other eigenvalues.\n",
    "- The starting vector $b_{k-1}$ has a non-zero component in the direction of an eigenvector associated with the dominant eigenvalue."
   ]
  },
  {
   "cell_type": "markdown",
   "metadata": {},
   "source": [
    "The largest eigenvector $ ν_1 $ and the largest eigenvalue $ λ_1 $ are estimated in the following way : \n",
    "\n",
    "$$ when \\ k → ∞  $$\n",
    "\n",
    "\n",
    "$$ b_k = \\frac {K ∙ b_{k-1}}{‖K ∙ b_{k-1} ‖_2} → ν_1  $$ \n",
    "\n",
    "$$ a_k = \\frac {b_k^T ∙ K ∙ b_k}{b_k^T ∙ b_k} → λ_1 $$"
   ]
  },
  {
   "cell_type": "code",
   "execution_count": 11,
   "metadata": {},
   "outputs": [],
   "source": [
    "def power_method(K, iterations): \n",
    "    \n",
    "    #starting vector (random)\n",
    "    b_k = np.random.rand(n,1)[:,0]\n",
    "    \n",
    "    for _ in range(iterations):\n",
    "        b_k1 = K @ b_k\n",
    "        b_k1_norm = np.linalg.norm(b_k1)\n",
    "        b_k = b_k1 / b_k1_norm\n",
    "        \n",
    "    a_k = (b_k.T @ K @ b_k) / (b_k.T @ b_k)\n",
    "        \n",
    "    return a_k, b_k"
   ]
  },
  {
   "cell_type": "code",
   "execution_count": 12,
   "metadata": {},
   "outputs": [
    {
     "name": "stdout",
     "output_type": "stream",
     "text": [
      "True largest eigenvalue :  62585.57353\n",
      "\n",
      "Estimated largest eigenvalue :  62585.57353\n"
     ]
    }
   ],
   "source": [
    "eigval, eigvec = power_method(K, 100)\n",
    "print(f'True largest eigenvalue : {l[0]: .5f}')\n",
    "print(f'\\nEstimated largest eigenvalue : {eigval: .5f}')"
   ]
  },
  {
   "cell_type": "markdown",
   "metadata": {},
   "source": [
    "### Accuracy"
   ]
  },
  {
   "cell_type": "code",
   "execution_count": 13,
   "metadata": {},
   "outputs": [
    {
     "name": "stdout",
     "output_type": "stream",
     "text": [
      "Relative Error in estimating largest eigenvalue :  0.00%\n",
      "\n",
      "Mean Squared Error in estimating largest eigenvector :  0.00\n"
     ]
    }
   ],
   "source": [
    "true_eigval, true_eigvec = l[0], v[:,0]\n",
    "err_eigval = (abs(eigval - true_eigval) / true_eigval) * 100\n",
    "err_eigvec = np.mean((eigvec - true_eigvec)**2)\n",
    "\n",
    "print(f'Relative Error in estimating largest eigenvalue : {err_eigval: .2f}%')\n",
    "print(f'\\nMean Squared Error in estimating largest eigenvector : {err_eigvec: .2f}')"
   ]
  },
  {
   "cell_type": "markdown",
   "metadata": {},
   "source": [
    "### Convergence\n",
    "\n",
    "A slight modification is added to the Power Method in order to discuss the convergence of the algorithm. \n",
    "As highlighted before, the two assumptions have to be satisfied for the Power Method to successfully converge. \n",
    "\n",
    "Along with the diagonalizable matrix *K*, the true largest eigenvalue is passed along with a certain tolerance as deemed suitable by the user (0.0 in our case).\n",
    "\n",
    "The result is the number of iterations the algorithm takes to converge within the specified tolerance level."
   ]
  },
  {
   "cell_type": "code",
   "execution_count": 14,
   "metadata": {},
   "outputs": [],
   "source": [
    "def power_method_convergence(K, true, eps):\n",
    "    \n",
    "    b_k = np.random.rand(n,1)[:,0]\n",
    "    converge = False\n",
    "    c = 1\n",
    "    \n",
    "    while not converge:\n",
    "        b_k1 = K @ b_k\n",
    "        b_k1_norm = np.linalg.norm(b_k1)\n",
    "        b_k = b_k1 / b_k1_norm\n",
    "        a_k = (b_k.T @ K @ b_k) / (b_k.T @ b_k)\n",
    "        converge = abs(true - a_k) <= eps\n",
    "        c += 1\n",
    "        \n",
    "        if c >= 10000:\n",
    "            return print(f'Power Method failed to converge (exceeded 10,000 iterations)')\n",
    "    \n",
    "    return print(f'Converged after {c} iterations') "
   ]
  },
  {
   "cell_type": "code",
   "execution_count": 15,
   "metadata": {},
   "outputs": [
    {
     "name": "stdout",
     "output_type": "stream",
     "text": [
      "Converged after 8 iterations\n"
     ]
    }
   ],
   "source": [
    "power_method_convergence(K, l[0], 0.0)"
   ]
  },
  {
   "cell_type": "markdown",
   "metadata": {},
   "source": [
    "## Conclusion\n",
    "\n",
    "Power Method is a very simple and effective algorithm provided the two assumptions hold up. It may fail to converge as can be seen above if one of the assumptions is not satisfied or the tolerance is too tight. \n",
    "\n",
    "> NOTE : If the Power Method keeps failing, it implies that the starting vector being chosen randomly each time has a zero component along the direction of the dominant eigenvector every single time. Either keep trying to run until it successfully converges or increase the tolerance from 0.0 to 0.01 (say)."
   ]
  },
  {
   "cell_type": "markdown",
   "metadata": {},
   "source": [
    "## References\n",
    "\n",
    "1. The official [Wikipedia](https://en.wikipedia.org/wiki/Power_iteration) page of Power Method\n",
    "2. [Measuring errors](https://www.netlib.org/lapack/lug/node75.html)"
   ]
  },
  {
   "cell_type": "code",
   "execution_count": null,
   "metadata": {},
   "outputs": [],
   "source": []
  }
 ],
 "metadata": {
  "kernelspec": {
   "display_name": "Python 3",
   "language": "python",
   "name": "python3"
  },
  "language_info": {
   "codemirror_mode": {
    "name": "ipython",
    "version": 3
   },
   "file_extension": ".py",
   "mimetype": "text/x-python",
   "name": "python",
   "nbconvert_exporter": "python",
   "pygments_lexer": "ipython3",
   "version": "3.8.5"
  }
 },
 "nbformat": 4,
 "nbformat_minor": 4
}
