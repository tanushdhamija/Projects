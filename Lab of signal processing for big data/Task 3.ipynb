{
 "cells": [
  {
   "cell_type": "markdown",
   "metadata": {},
   "source": [
    "# Finding the *k* most frequent values in a stream"
   ]
  },
  {
   "cell_type": "markdown",
   "metadata": {},
   "source": [
    "## Introduction\n",
    "\n",
    "In this notebook we will see the implementation, assessment and discussion of a streaming algorithm that finds the *k* most frequent values in a stream.\n",
    "\n",
    "We define a stream of values and the streaming algorithm takes the stream, one element at a time. Two other inputs to the algorithm are : Length of the stream, number of most frequent values to find (k) in the stream.\n",
    "The output is those many frequent values as defined.\n",
    "\n",
    "The result is then verified by displaying a histogram of all the values in the stream which matches the output of the algorithm. "
   ]
  },
  {
   "cell_type": "code",
   "execution_count": 1,
   "metadata": {},
   "outputs": [],
   "source": [
    "from random import choices\n",
    "from itertools import islice\n",
    "import matplotlib.pyplot as plt"
   ]
  },
  {
   "cell_type": "markdown",
   "metadata": {},
   "source": [
    "### Defining the stream : Generates samples with different probabilities to verify the algorithm"
   ]
  },
  {
   "cell_type": "markdown",
   "metadata": {},
   "source": [
    "The first thing we need to do is to setup a stream that is capable of providing an infinite number of values to the algorithm.\n",
    "\n",
    "The stream is defined in such a way that allows for generating values with different probabilities instead of all the values having a uniform probability. In this way we can verify the result of the algorithm at the end.\n",
    "\n",
    "There are two cases included for the purpose of verification : \\\n",
    "(Total no. of values =  k + 100)\n",
    "\n",
    "- list *p* : assigns a 90% probability to the *first k* values and a 10% probability to the remaining values\n",
    "- list *q* : assigns a 90% probability to the *last k* values and a 10% probability to the remaining values"
   ]
  },
  {
   "cell_type": "code",
   "execution_count": 2,
   "metadata": {},
   "outputs": [],
   "source": [
    "def stream(k):\n",
    "    while True:\n",
    "        \n",
    "        a = list(range(0, k+100))\n",
    "        p = [0.9/k]*k + [0.001]*100\n",
    "        #q = [0.001]*100 + [0.9/k]*k\n",
    "        \n",
    "        yield choices(a, p)[0]"
   ]
  },
  {
   "cell_type": "markdown",
   "metadata": {},
   "source": [
    "### Defining the class : Implements the algorithm"
   ]
  },
  {
   "cell_type": "markdown",
   "metadata": {},
   "source": [
    "The streaming algorithm is as follows :\n",
    "\n",
    "$ \\overline a_0,...,\\overline a_{k-1} \\gets * (empty) $\n",
    " \n",
    "$ \\overline c_0,...,\\overline c_{k-1} \\gets 0 $\n",
    "\n",
    "\n",
    "$ for \\ j ←0…n-1 $\n",
    "\n",
    "> $ if \\ ∃ \\ \\overline a_l=a_j \\ ∶ $\n",
    ">>\n",
    ">> $ c_l← c_l+1 $\n",
    ">\n",
    "> $ elseif \\ ∃ \\ \\overline a_l=* \\ ∶ $\n",
    ">>\n",
    ">> $ \\overline a_l← a_j $\n",
    ">>\n",
    ">> $ c_l← 1 $\n",
    ">\n",
    "> $ else : $\n",
    ">>\n",
    ">> $ ∀ l=0…k-1 \\ : $\n",
    ">>>\n",
    ">>> $ c_l← c_l-1 $\n",
    ">>\n",
    ">> $ if \\ c_l = 0 \\ : $\n",
    ">>>\n",
    ">>> $ \\overline a_l \\gets * $\n",
    ">>\n",
    "> $ end $\n",
    "\n",
    "$ end $\n",
    "\n",
    "\n"
   ]
  },
  {
   "cell_type": "markdown",
   "metadata": {},
   "source": [
    "The algorithm makes use of two lists :\n",
    "\n",
    "- *list a* : of length \"k\" that stores the frequent elements\n",
    "- *list c* : of length \"k\" which is a list of counters for the elements stored in *list a*"
   ]
  },
  {
   "cell_type": "markdown",
   "metadata": {},
   "source": [
    "> At the end of the algorithm, the *k* elements are sorted and returned in their decreasing order of \n",
    "> appearance in the stream "
   ]
  },
  {
   "cell_type": "code",
   "execution_count": 3,
   "metadata": {},
   "outputs": [],
   "source": [
    "class K_Most:\n",
    "    \n",
    "    def __init__(self, k):\n",
    "        \n",
    "        self.a = [None] * k\n",
    "        self.c = [0] * k\n",
    "        \n",
    "    def update(self, sample):\n",
    "        \n",
    "        if sample in self.a:\n",
    "            self.c[self.a.index(sample)] += 1\n",
    "        elif None in self.a:\n",
    "            self.a[self.a.index(None)] = sample\n",
    "            self.c[self.a.index(sample)] = 1\n",
    "        else:\n",
    "            for i in range(len(self.c)):\n",
    "                self.c[i] -= 1\n",
    "                if self.c[i] == 0:\n",
    "                    self.a[i] = None\n",
    "        \n",
    "        #sorting the elements in decreasing order of their occurence\n",
    "        d = dict(zip(self.a,self.c))\n",
    "        d_sorted = sorted(d.items(), key=lambda x: x[1], reverse=True)\n",
    "        x = [d_sorted[i][0] for i in range(len(d_sorted))]\n",
    "        y = [d_sorted[i][1] for i in range(len(d_sorted))]\n",
    "        \n",
    "        return x,y       "
   ]
  },
  {
   "cell_type": "markdown",
   "metadata": {},
   "source": [
    "### Results and Verification"
   ]
  },
  {
   "cell_type": "markdown",
   "metadata": {},
   "source": [
    "The user is asked to enter the length of the stream and the number of most frequently occuring values to display.\n",
    "\n",
    "Finally, a histogram of ALL the values generated by the stream is displayed which should be coherent with the result obtained by the streaming algorithm."
   ]
  },
  {
   "cell_type": "code",
   "execution_count": 4,
   "metadata": {},
   "outputs": [
    {
     "name": "stdout",
     "output_type": "stream",
     "text": [
      "Enter length of stream: 10000\n",
      "Enter the number of most frequent values to find: 5\n",
      "\n",
      "The 5 most frequent elements in the stream are: [0, 1, 2, 3, 4]\n"
     ]
    },
    {
     "data": {
      "image/png": "[encoded data removed]",
      "text/plain": [
       "<Figure size 1152x576 with 1 Axes>"
      ]
     },
     "metadata": {
      "needs_background": "light"
     },
     "output_type": "display_data"
    }
   ],
   "source": [
    "N = int(input('Enter length of stream: '))\n",
    "k = int(input('Enter the number of most frequent values to find: '))\n",
    "\n",
    "k_most = K_Most(k)\n",
    "hist = []\n",
    "for sample in islice(stream(k), N):\n",
    "    x,y = k_most.update(sample)\n",
    "    hist.append(sample)\n",
    "\n",
    "print(f'\\nThe {k} most frequent elements in the stream are: {x}')\n",
    "plt.figure(figsize=(16,8))\n",
    "plt.title('Histogram of all the values generated by the stream')\n",
    "plt.xlabel('Possible output values of the stream')\n",
    "plt.ylabel('Frequency of each value')\n",
    "plt.hist(hist, k+100, density=False)\n",
    "None"
   ]
  },
  {
   "cell_type": "markdown",
   "metadata": {},
   "source": [
    "## Conclusion\n",
    "\n",
    "We discussed the working of a streaming algorithm that given the ***length of a stream*** and the ***number of most frequent values*** to find, calculates and displays those many frequently occuring values in the stream with a pictorial view of all the values generated to support the obtained result."
   ]
  },
  {
   "cell_type": "code",
   "execution_count": null,
   "metadata": {},
   "outputs": [],
   "source": []
  }
 ],
 "metadata": {
  "kernelspec": {
   "display_name": "Python 3",
   "language": "python",
   "name": "python3"
  },
  "language_info": {
   "codemirror_mode": {
    "name": "ipython",
    "version": 3
   },
   "file_extension": ".py",
   "mimetype": "text/x-python",
   "name": "python",
   "nbconvert_exporter": "python",
   "pygments_lexer": "ipython3",
   "version": "3.8.5"
  }
 },
 "nbformat": 4,
 "nbformat_minor": 4
}
